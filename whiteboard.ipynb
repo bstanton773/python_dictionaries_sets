{
 "cells": [
  {
   "cell_type": "code",
   "execution_count": 1,
   "metadata": {},
   "outputs": [],
   "source": [
    "#Given a string after every y add an ! and after every s add a period and make every w and g capital\n",
    "#Make a Function that takes a string as input and returns the adjusted string.\n",
    "s=\"Hey welcome to doing whiteboard problems get prepared to figure our a problem on the fly\"\n",
    "#output= Hey! Welcome to doinG Whiteboard problems. Get prepared to fiGure our a problem on the fly!"
   ]
  },
  {
   "cell_type": "code",
   "execution_count": 2,
   "metadata": {},
   "outputs": [
    {
     "data": {
      "text/plain": [
       "'Hey! Welcome to doinG Whiteboard problems. Get prepared to fiGure our a problem on the fly!'"
      ]
     },
     "execution_count": 2,
     "metadata": {},
     "output_type": "execute_result"
    }
   ],
   "source": [
    "def new_string(string):\n",
    "    new = \"\"\n",
    "    for letter in string:\n",
    "        if letter == \"y\":\n",
    "            new += letter + \"!\"\n",
    "        elif letter == \"s\":\n",
    "            new += letter + \".\"\n",
    "        elif letter == \"w\" or letter == \"g\":\n",
    "            new += letter.upper()\n",
    "        else:\n",
    "            new += letter\n",
    "    return new\n",
    "\n",
    "new_string(s)"
   ]
  },
  {
   "cell_type": "code",
   "execution_count": null,
   "metadata": {},
   "outputs": [],
   "source": []
  }
 ],
 "metadata": {
  "kernelspec": {
   "display_name": "Python 3",
   "language": "python",
   "name": "python3"
  },
  "language_info": {
   "codemirror_mode": {
    "name": "ipython",
    "version": 3
   },
   "file_extension": ".py",
   "mimetype": "text/x-python",
   "name": "python",
   "nbconvert_exporter": "python",
   "pygments_lexer": "ipython3",
   "version": "3.8.5"
  }
 },
 "nbformat": 4,
 "nbformat_minor": 4
}
